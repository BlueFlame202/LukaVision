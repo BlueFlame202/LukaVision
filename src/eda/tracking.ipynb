{
 "cells": [
  {
   "cell_type": "markdown",
   "metadata": {},
   "source": [
    "# Tracking with YOLO v8"
   ]
  },
  {
   "cell_type": "markdown",
   "metadata": {},
   "source": [
    "## Imports"
   ]
  },
  {
   "cell_type": "code",
   "execution_count": 1,
   "metadata": {},
   "outputs": [],
   "source": [
    "# General Imports\n",
    "import numpy as np\n",
    "import pandas as pd\n",
    "\n",
    "# Image Processing \n",
    "from PIL import Image\n",
    "import cv2\n",
    "from ultralytics import YOLO\n",
    "\n",
    "# Plotting\n",
    "import matplotlib.pyplot as plt\n",
    "import matplotlib.patches as patches"
   ]
  },
  {
   "cell_type": "markdown",
   "metadata": {},
   "source": [
    "## Setup"
   ]
  },
  {
   "cell_type": "code",
   "execution_count": 2,
   "metadata": {},
   "outputs": [],
   "source": [
    "VID_PATH = r\"../../data/kawhivideovision.mp4\"\n",
    "OUT_PATH = r\"../../output/output.mp4\""
   ]
  },
  {
   "cell_type": "code",
   "execution_count": 3,
   "metadata": {},
   "outputs": [],
   "source": [
    "model = YOLO(\"yolov8m.pt\")"
   ]
  },
  {
   "cell_type": "code",
   "execution_count": 4,
   "metadata": {},
   "outputs": [],
   "source": [
    "def process_frame(input_frame):\n",
    "    results = model.track(input_frame, persist = True)\n",
    "    output_frame = results[0].plot()\n",
    "    return output_frame"
   ]
  },
  {
   "cell_type": "markdown",
   "metadata": {},
   "source": [
    "## Method 1: Naive tracking based on minimal distance"
   ]
  },
  {
   "cell_type": "code",
   "execution_count": 5,
   "metadata": {},
   "outputs": [],
   "source": [
    "# The goal of this section is to overload the 'process_frame' method to correctly perform tracking.\n",
    "# To track positions, we use a method called align_positions, which given two arrays of positions, \"aligns\" them so that positions with the same index correspond to the same person.\n",
    "# This method is faster than checking every possible permutations of the two lists, but has possibilities for error when players run through each other."
   ]
  },
  {
   "cell_type": "markdown",
   "metadata": {},
   "source": [
    "### Helper Methods"
   ]
  },
  {
   "cell_type": "code",
   "execution_count": 6,
   "metadata": {},
   "outputs": [],
   "source": [
    "# TODO\n",
    "def dist(pos1, pos2):\n",
    "    \"\"\"Returns the distance between pos1 and pos2.\n",
    "\n",
    "    Keyword arguments:\n",
    "    pos1 -- first position, a list with x and y components\n",
    "    pos2 -- second position, a list with x and y components\n",
    "    \"\"\"\n",
    "    return"
   ]
  },
  {
   "cell_type": "code",
   "execution_count": 7,
   "metadata": {},
   "outputs": [],
   "source": [
    "# TODO\n",
    "def find_closest(pos, pos_list):\n",
    "    \"\"\"Returns the index in pos_list with minimal distance to pos.\n",
    "\n",
    "    Keyword arguments:\n",
    "    pos -- A position, a list with x and y components\n",
    "    pos_list -- A list of positions, each being lists with x and y components\n",
    "    \"\"\"\n",
    "    return"
   ]
  },
  {
   "cell_type": "code",
   "execution_count": 8,
   "metadata": {},
   "outputs": [],
   "source": [
    "def swap(i, j, list):\n",
    "    \"\"\"Returns the same list but with indices i and j swapped.\"\"\"\n",
    "    return"
   ]
  },
  {
   "cell_type": "code",
   "execution_count": 9,
   "metadata": {},
   "outputs": [],
   "source": [
    "# TODO\n",
    "# For each point in pos_list_1, find the closest point in pos_list_2, and swap the elements in pos_list_2 so that the closest point has the same index as the point in pos_list_1.\n",
    "def align_positions(pos_list_1, pos_list_2):\n",
    "    \"\"\"Given two arrays of positions, \"aligns\" them so that positions with the same index correspond to the same person.\n",
    "\n",
    "    Keyword arguments:\n",
    "    pos_list_1 -- A list of positions, each being lists with x and y components\n",
    "    pos_list_2 -- A list of positions, each being lists with x and y components\n",
    "    \"\"\"\n",
    "\n",
    "    while len(pos_list_2) < len(pos_list_1):\n",
    "        pos_list_2.append([0, 0])\n",
    "    while len(pos_list_1) < len(pos_list_2):\n",
    "        pos_list_1.append([0, 0])\n"
   ]
  },
  {
   "cell_type": "code",
   "execution_count": 10,
   "metadata": {},
   "outputs": [],
   "source": [
    "def process_frame(input_frame):\n",
    "    results = model.track(input_frame, persist = True)\n",
    "    output_frame = results[0].plot()\n",
    "    # draw the player numbers onto output_frame\n",
    "\n",
    "    return output_frame"
   ]
  },
  {
   "cell_type": "markdown",
   "metadata": {},
   "source": [
    "## Testing"
   ]
  },
  {
   "cell_type": "code",
   "execution_count": 11,
   "metadata": {},
   "outputs": [],
   "source": [
    "# Prepare Video Input\n",
    "cap = cv2.VideoCapture(VID_PATH)\n",
    "\n",
    "frame_width = int(cap.get(cv2.CAP_PROP_FRAME_WIDTH))\n",
    "frame_height = int(cap.get(cv2.CAP_PROP_FRAME_HEIGHT))\n",
    "frame_rate = cap.get(cv2.CAP_PROP_FPS)"
   ]
  },
  {
   "cell_type": "code",
   "execution_count": 12,
   "metadata": {},
   "outputs": [],
   "source": [
    "# Prepare Video Output\n",
    "# Define the codec and create VideoWriter object\n",
    "fourcc = cv2.VideoWriter_fourcc(*'mp4v')  # or use 'XVID'\n",
    "out = cv2.VideoWriter(OUT_PATH, fourcc, frame_rate, (frame_width, frame_height))"
   ]
  },
  {
   "cell_type": "code",
   "execution_count": 14,
   "metadata": {},
   "outputs": [],
   "source": [
    "# Processing Loop\n",
    "ret = True\n",
    "while cap.isOpened():\n",
    "    ret, frame = cap.read()\n",
    "    if not ret:\n",
    "        break\n",
    "    frame_ = process_frame(frame)\n",
    "    out.write(frame_)\n",
    "cap.release()\n",
    "out.release()\n",
    "cv2.destroyAllWindows()"
   ]
  },
  {
   "cell_type": "code",
   "execution_count": null,
   "metadata": {},
   "outputs": [],
   "source": []
  },
  {
   "cell_type": "code",
   "execution_count": null,
   "metadata": {},
   "outputs": [],
   "source": []
  }
 ],
 "metadata": {
  "kernelspec": {
   "display_name": "Python 3",
   "language": "python",
   "name": "python3"
  },
  "language_info": {
   "codemirror_mode": {
    "name": "ipython",
    "version": 3
   },
   "file_extension": ".py",
   "mimetype": "text/x-python",
   "name": "python",
   "nbconvert_exporter": "python",
   "pygments_lexer": "ipython3",
   "version": "3.10.7"
  }
 },
 "nbformat": 4,
 "nbformat_minor": 2
}
